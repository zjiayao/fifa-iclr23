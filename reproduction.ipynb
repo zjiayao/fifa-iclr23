{
 "cells": [
  {
   "cell_type": "markdown",
   "id": "de5da1d9-1f1a-49c2-80ca-363b0c1e22b3",
   "metadata": {},
   "source": [
    "# Reproducing Figures and Tables"
   ]
  },
  {
   "cell_type": "code",
   "execution_count": 1,
   "id": "mental-format",
   "metadata": {},
   "outputs": [],
   "source": [
    "from __future__ import print_function, absolute_import, division\n",
    "import sys, os, json, requests, time, datetime, logging, pickle\n",
    "from pathlib import Path\n",
    "import pandas as pd\n",
    "import numpy as np\n",
    "import sklearn\n",
    "import sklearn.linear_model\n",
    "import tqdm\n",
    "import wandb\n",
    "from matplotlib import pyplot as plt\n",
    "\n",
    "\n",
    "import seaborn as sns\n",
    "import matplotlib\n",
    "from matplotlib import pyplot as plt\n",
    "\n",
    "\n",
    "sns.set()\n",
    "sns.set(font_scale=2.5,)\n",
    "sns.set_style(\"white\")\n",
    "# sns.set_style({'font.family': 'Times New Roman'})\n",
    "sns.set_palette(\"colorblind\")\n",
    "\n",
    "\n",
    "plt.rcParams.update({'font.size': 20, 'lines.linewidth':4, 'lines.markersize':12, \n",
    "                         'xtick.labelsize':15, 'ytick.labelsize':15, 'axes.labelsize':20,\n",
    "                         'axes.titlesize': 20, 'legend.fontsize':20,\n",
    "                         'pdf.fonttype': 42, 'ps.fonttype':42,\n",
    "                        'image.interpolation':'nearest', 'figure.figsize': (10,8),\n",
    "                     'text.usetex': False\n",
    "                     \n",
    "                    })\n",
    "tqdm.tqdm.pandas()\n",
    "# logging.getLogger().setLevel(logging.CRITICAL)"
   ]
  },
  {
   "cell_type": "markdown",
   "id": "81015aff-46e0-4014-8d03-178bd25f2e2c",
   "metadata": {},
   "source": [
    "Table utility functions"
   ]
  },
  {
   "cell_type": "code",
   "execution_count": 53,
   "id": "cleared-scanner",
   "metadata": {},
   "outputs": [],
   "source": [
    "def show_table(df, gg_method = 'min'):\n",
    "    df = df.reset_index(drop=True)\n",
    "    return pd.concat([\n",
    "    (df\n",
    "      .query(\"constraint=='eo'\")\n",
    "     .assign(run_count=lambda x:x['exp_name'], grid_count=lambda x:x['grid'])\n",
    "     .groupby([\"constraint\", \"violation_eps\", \"loss_type\", ])\n",
    "     .agg({\n",
    "         'test_balloss_cls_eo': agg_method,\n",
    "              'run_count': 'nunique',\n",
    "         'grid_count': 'nunique',\n",
    "     })\n",
    "    ),\n",
    "    (df\n",
    "      .query(\"constraint=='dp'\")\n",
    "     .assign(run_count=lambda x:x['exp_name'], grid_count=lambda x:x['grid'])\n",
    "     .groupby([\"constraint\", \"violation_eps\", \"loss_type\", ])\n",
    "     .agg({\n",
    "         'test_balloss_cls_dp': agg_method,\n",
    "         'run_count': 'nunique',\n",
    "         'grid_count': 'nunique',\n",
    "     })\n",
    "    )\n",
    "        ], axis=1)\n",
    "\n",
    "def show_agg_df(df, gg_method = 'min',\n",
    "                added_cols=[\"train_acc\", \"test_acc\"],\n",
    "                group_cols=[\"constraint\",\"violation_eps\", \"loss_type\", \"use_drw\"]):\n",
    "    df = df.reset_index(drop=True)\n",
    "    eo_df = (df.query(\"constraint=='eo'\")\n",
    "     .assign(run_count=lambda x:x['exp_name'], grid_count=lambda x:x['grid'])\n",
    "     .reset_index(drop=True)\n",
    "     .rename({'test_balloss_cls_eo': 'test_balanced_loss',\n",
    "              'train_balloss_cls_eo': 'train_balanced_loss',\n",
    "              'test_eo': 'test_violation',\n",
    "              'train_eo': 'train_violation'\n",
    "             },axis=1)\n",
    "    )\n",
    "    dp_df = (df.query(\"constraint=='dp'\")\n",
    "     .assign(run_count=lambda x:x['exp_name'], grid_count=lambda x:x['grid'])\n",
    "     .reset_index(drop=True)\n",
    "     .rename({'test_balloss_cls_dp': 'test_balanced_loss',\n",
    "              'train_balloss_cls_dp': 'train_balanced_loss',\n",
    "              'test_dp': 'test_violation',\n",
    "              'train_dp': 'train_violation'\n",
    "             },axis=1)\n",
    "    )\n",
    "    df = pd.concat([eo_df, dp_df]).reset_index(drop=True)\n",
    "\n",
    "    return (df\n",
    "     .iloc[df.groupby(group_cols)['test_balanced_loss'].idxmin()]\n",
    "     [group_cols+added_cols+[\n",
    "       \"test_balanced_loss\",\"train_balanced_loss\",\n",
    "       \"test_violation\", \"train_violation\", \n",
    "       \"test_cls_avg_acc\", \"train_cls_avg_acc\", \n",
    "        \n",
    "      ]]\n",
    "    .reset_index(drop=True)\n",
    "    .assign(bal_acc_gap=lambda x :  x['train_cls_avg_acc'] - x['test_cls_avg_acc'] )\n",
    "    .assign(bal_loss_gap=lambda x :  x['test_balanced_loss'] - x['train_balanced_loss'] )\n",
    "    .assign(violation_gap=lambda x :  x['test_violation'] - x['train_violation'] )\n",
    "    ).groupby(group_cols).first()\n",
    "    "
   ]
  },
  {
   "cell_type": "markdown",
   "id": "aboriginal-vocabulary",
   "metadata": {},
   "source": [
    "# Load Data"
   ]
  },
  {
   "cell_type": "code",
   "execution_count": 1112,
   "id": "sharp-decrease",
   "metadata": {},
   "outputs": [],
   "source": [
    "def process_table(table, method_suffix='-GS', tuple_header=None, use_drw=None, show_gap=False, constraint='eo'):\n",
    "    if use_drw is not None:\n",
    "        table = table.query(f'use_drw=={use_drw}')\n",
    "    table = (show_agg_df(table, group_cols=[\"constraint\",\"violation_eps\", \"loss_type\"],                        \n",
    "                        )\n",
    "    .query(f'constraint==\"{constraint}\"')\n",
    "    .reset_index()\n",
    "    .drop(['constraint'],axis=1)\n",
    "    .rename({'violation_eps':r\"$\\epsilon$\", 'loss_type': 'Method'},axis=1)\n",
    "    .replace({'Method':{'fdam':f'FIFA{method_suffix}',\n",
    "                             'ldam': f'LDAM{method_suffix}',\n",
    "                             'standard': f'Vanilla{method_suffix}',\n",
    "                            }})\n",
    "            )\n",
    "    n_methods = table.Method.nunique()\n",
    "    table[r\"$\\epsilon$\"] = table[r\"$\\epsilon$\"].apply(lambda e:r\"\\multirow{\"+ f\"{n_methods}\"+r\"}{*}{\"+f\"{e:.2f}\"+\"}\")\n",
    "    table=table.assign(   \n",
    "        bal_loss_gap_abs=lambda x:np.abs(x['bal_loss_gap']),\n",
    "        violation_gap_abs=lambda x:np.abs(x['violation_gap']),\n",
    "        bal_acc_gap_abs=lambda x:np.abs(x['bal_acc_gap']),\n",
    "        train_bal_err=lambda x:1.-x['train_cls_avg_acc'],\n",
    "        test_bal_err=lambda x:1.-x['test_cls_avg_acc'],\n",
    "    ).set_index([r\"$\\epsilon$\", 'Method'])\n",
    "    \n",
    "\n",
    "    table_cols = ['train_balanced_loss','test_balanced_loss','bal_loss_gap_abs',\n",
    "               'train_violation','test_violation','violation_gap_abs',\n",
    "#                 'train_bal_err','test_bal_err','bal_acc_gap_abs'\n",
    "                 ]\n",
    "    tuple_list = [\n",
    "        ('Combined Loss', 'Train'),     ('Combined Loss', 'Test'),     ('Combined Loss', 'Gap'),\n",
    "        ('Fairness Violation', 'Train'),     ('Fairness Violation', 'Test'),     ('Fairness Violation', 'Gap'),\n",
    "#         ('Balanced Error', 'Train'),     ('Balanced Error', 'Test'),     ('Balanced Error', 'Gap'),\n",
    "    ]\n",
    "    if not show_gap:\n",
    "        tuple_list = [t for t in tuple_list if t[1] !='Gap']\n",
    "        table_cols = [c for c in table_cols if 'gap' not in c] \n",
    "    if tuple_header is not None:\n",
    "        tuple_list = [(tuple_header,)+t for t in tuple_list]\n",
    "    table=table[table_cols]\n",
    "    table.columns = pd.MultiIndex.from_tuples(tuple_list)\n",
    "    return table"
   ]
  },
  {
   "cell_type": "markdown",
   "id": "empty-forty",
   "metadata": {},
   "source": [
    "## Data Summary"
   ]
  },
  {
   "cell_type": "code",
   "execution_count": 737,
   "id": "nutritional-algeria",
   "metadata": {},
   "outputs": [],
   "source": [
    "pd.options.display.float_format = '{:.2}'.format"
   ]
  },
  {
   "cell_type": "code",
   "execution_count": 849,
   "id": "proper-communist",
   "metadata": {},
   "outputs": [],
   "source": [
    "import src.example_datasets as egdata \n",
    "import src.datasets\n",
    "adult_income_data = egdata.load_adult_income_dataset(Path(\"/shared/zjiayao/data/adult_income\"))\n",
    "adult_size_map_handle = src.datasets.construct_data_size_map(\n",
    "       y_train=adult_income_data[1], \n",
    "       A_train=adult_income_data[2],\n",
    "       y_test=adult_income_data[4],\n",
    "       A_test=adult_income_data[5],\n",
    "    attr_name='sex',\n",
    "   )\n",
    "\n",
    "\n",
    "\n",
    "dutch_data = egdata.load_dutch_data( Path(\"/shared/zjiayao/data/dutch_consensus/dutch.csv\"), seed=1)\n",
    "dutch_data[0] = pd.concat([dutch_data[0],\n",
    "                                dutch_data[2]=='Female'],\n",
    "                               axis=1).astype(float)\n",
    "dutch_data[3] = pd.concat([dutch_data[3],\n",
    "                                dutch_data[5]=='Female'],\n",
    "                               axis=1).astype(float)\n",
    "dutch_size_map_handle = src.datasets.construct_data_size_map(\n",
    "           y_train=dutch_data[1], \n",
    "           A_train=dutch_data[2],\n",
    "           y_test=dutch_data[4],\n",
    "           A_test=dutch_data[5],\n",
    "        attr_name='gender',\n",
    "       )"
   ]
  },
  {
   "cell_type": "code",
   "execution_count": 1102,
   "id": "offensive-military",
   "metadata": {},
   "outputs": [],
   "source": [
    "adult_sizes = (pd.concat([adult_size_map_handle('train').rename({'n':'Train'},axis=1),\n",
    "            adult_size_map_handle('test').rename({'n':'Test'},axis=1)], axis=1)\n",
    " .reset_index()\n",
    " .rename({'label': 'Label', 'sex': 'Gender'},axis=1)\n",
    " .sort_values([ 'Label','Gender'])\n",
    ")\n",
    "adult_sizes['Data'] = 'AdultIncome'\n",
    "\n",
    "dutch_sizes = (pd.concat([dutch_size_map_handle('train').rename({'n':'Train'},axis=1),\n",
    "            dutch_size_map_handle('test').rename({'n':'Test'},axis=1)], axis=1)\n",
    " .reset_index()\n",
    " .rename({'label': 'Label', 'gender': 'Gender'},axis=1)\n",
    " .sort_values([ 'Label','Gender'])\n",
    ")\n",
    "dutch_sizes['Data'] = 'DutchConsensus'\n",
    "celeba_sizes = (pd.concat([src.datasets.get_celeba_size_map('train').rename({'n':'Train'},axis=1),\n",
    "                          src.datasets.get_celeba_size_map('test').rename({'n':'Test'},axis=1)],\n",
    "                         axis=1)\n",
    "    .reset_index()\n",
    "    .replace({\"gender\": {'male':'Male', 'female':'Female'}})\n",
    "    .rename({'blond': 'Label', 'gender': 'Gender'},axis=1)\n",
    " .sort_values([ 'Label','Gender'])\n",
    ")\n",
    "celeba_sizes['Data'] = 'CelebA'"
   ]
  },
  {
   "cell_type": "code",
   "execution_count": 1104,
   "id": "outer-minutes",
   "metadata": {},
   "outputs": [],
   "source": [
    "data_sizes = (  pd.concat([celeba_sizes, adult_sizes,dutch_sizes])\n",
    " .sort_values(['Data', 'Label','Gender'])\n",
    " .set_index(['Data', 'Label','Gender'])\n",
    ").reset_index()\n",
    "data_sizes=data_sizes.replace({\n",
    "        'Gender':{\n",
    "            'Male': r'$\\texttt{Male}$',\n",
    "            'Female': r'$\\texttt{Female}$',\n",
    "        }\n",
    "    })\n",
    "\n",
    "data_sizes['label'] = data_sizes['Label'].apply(lambda l : r'\\texttt{+}' if l==1 else r'\\texttt{-}')\n",
    "data_sizes['Subgroup'] = data_sizes.apply(lambda s:\n",
    "                                         f\"({s['Gender']}, {s['label']})\",axis=1)"
   ]
  },
  {
   "cell_type": "code",
   "execution_count": 1105,
   "id": "special-muscle",
   "metadata": {},
   "outputs": [],
   "source": [
    "data_sizes['Traing Sample Proportions']=data_sizes['Train'] / data_sizes.groupby('Data')['Train'].transform('sum')"
   ]
  },
  {
   "cell_type": "markdown",
   "id": "2e992592-52ff-49f8-b2c2-2e6391670c79",
   "metadata": {},
   "source": [
    "#### Figure 2"
   ]
  },
  {
   "cell_type": "code",
   "execution_count": 941,
   "id": "received-executive",
   "metadata": {},
   "outputs": [
    {
     "data": {
      "image/png": "[encoded data removed]",
      "text/plain": [
       "<Figure size 432x288 with 1 Axes>"
      ]
     },
     "metadata": {},
     "output_type": "display_data"
    }
   ],
   "source": [
    "plt.rcParams.update({'hatch.color': 'k'})\n",
    "sns.set_palette(\"colorblind\")\n",
    "\n",
    "ax=plt.gca()\n",
    "bar=sns.barplot(\n",
    "    x='Data',\n",
    "    y='Traing Sample Proportions', hue='Subgroup',# kind='bar',\n",
    "    data=data_sizes,\n",
    "#     pd.melt(data_sizes.reset_index(), id_vars=['Data', 'Label','Gender'], value_vars=['Train','Test'],\n",
    "#         var_name='Split', value_name='Sample Size'), \n",
    "    alpha=0.6,\n",
    "ax=ax\n",
    ")\n",
    "hatches = ['-', '\\\\', '-', '\\\\',\n",
    "           '-', '\\\\', '-', '\\\\',\n",
    "           '-', '\\\\', '-', '\\\\',\n",
    "          ]\n",
    "patch_idx = np.argsort([b.xy[0] for b in bar.patches])\n",
    "for i in patch_idx: \n",
    "    # Set a different hatch for each bar\n",
    "    thisbar = bar.patches[i]\n",
    "    thisbar.set_hatch('----' if i % 2 == 0 else '////', )\n",
    "    thisbar.set_edgecolor([0.5,0.5,0.5])\n",
    "\n",
    "\n",
    "ax.set_xlabel(r\"Dataset\")\n",
    "ax.set_ylabel(r\"Relative Frequency\")\n",
    "ax.set_ylim([0, 0.5])\n",
    "sns.move_legend(ax,loc=2,ncol=2,fontsize=12,title_fontsize=18,title=r'$\\textbf{Subgroup}$', fancybox=False)\n",
    "plt.tight_layout()\n",
    "plt.savefig('./figs/teaser_hist'+'.png', bbox_inches='tight')\n",
    "plt.savefig('./figs/teaser_hist'+'.pdf', bbox_inches='tight')"
   ]
  },
  {
   "cell_type": "markdown",
   "id": "e2768381-19fc-45ff-a3db-d672d6e97c54",
   "metadata": {},
   "source": [
    "#### Table 3"
   ]
  },
  {
   "cell_type": "code",
   "execution_count": 1107,
   "id": "affected-violin",
   "metadata": {},
   "outputs": [],
   "source": [
    "pd.options.display.float_format = '{:.2}'.format\n",
    "data_sizes = (  pd.concat([celeba_sizes, adult_sizes,dutch_sizes])\n",
    " .sort_values(['Data', 'Label','Gender'])\n",
    " .set_index(['Data', 'Label','Gender'])\n",
    ")"
   ]
  },
  {
   "cell_type": "code",
   "execution_count": 1110,
   "id": "naughty-faith",
   "metadata": {},
   "outputs": [
    {
     "data": {
      "text/html": [
       "<div>\n",
       "<style scoped>\n",
       "    .dataframe tbody tr th:only-of-type {\n",
       "        vertical-align: middle;\n",
       "    }\n",
       "\n",
       "    .dataframe tbody tr th {\n",
       "        vertical-align: top;\n",
       "    }\n",
       "\n",
       "    .dataframe thead tr th {\n",
       "        text-align: left;\n",
       "    }\n",
       "</style>\n",
       "<table border=\"1\" class=\"dataframe\">\n",
       "  <thead>\n",
       "    <tr>\n",
       "      <th>Data</th>\n",
       "      <th colspan=\"4\" halign=\"left\">AdultIncome</th>\n",
       "      <th colspan=\"4\" halign=\"left\">CelebA</th>\n",
       "      <th colspan=\"4\" halign=\"left\">DutchConsensus</th>\n",
       "    </tr>\n",
       "    <tr>\n",
       "      <th>Label</th>\n",
       "      <th colspan=\"2\" halign=\"left\">0.0</th>\n",
       "      <th colspan=\"2\" halign=\"left\">1.0</th>\n",
       "      <th colspan=\"2\" halign=\"left\">0.0</th>\n",
       "      <th colspan=\"2\" halign=\"left\">1.0</th>\n",
       "      <th colspan=\"2\" halign=\"left\">0.0</th>\n",
       "      <th colspan=\"2\" halign=\"left\">1.0</th>\n",
       "    </tr>\n",
       "    <tr>\n",
       "      <th>Gender</th>\n",
       "      <th>Female</th>\n",
       "      <th>Male</th>\n",
       "      <th>Female</th>\n",
       "      <th>Male</th>\n",
       "      <th>Female</th>\n",
       "      <th>Male</th>\n",
       "      <th>Female</th>\n",
       "      <th>Male</th>\n",
       "      <th>Female</th>\n",
       "      <th>Male</th>\n",
       "      <th>Female</th>\n",
       "      <th>Male</th>\n",
       "    </tr>\n",
       "  </thead>\n",
       "  <tbody>\n",
       "    <tr>\n",
       "      <th>Train</th>\n",
       "      <td>9592</td>\n",
       "      <td>15128</td>\n",
       "      <td>1179</td>\n",
       "      <td>6662</td>\n",
       "      <td>71629</td>\n",
       "      <td>66874</td>\n",
       "      <td>22880</td>\n",
       "      <td>1387</td>\n",
       "      <td>69117</td>\n",
       "      <td>59608</td>\n",
       "      <td>7991</td>\n",
       "      <td>15064</td>\n",
       "    </tr>\n",
       "    <tr>\n",
       "      <th>Test</th>\n",
       "      <td>4831</td>\n",
       "      <td>7604</td>\n",
       "      <td>590</td>\n",
       "      <td>3256</td>\n",
       "      <td>9767</td>\n",
       "      <td>7535</td>\n",
       "      <td>2480</td>\n",
       "      <td>180</td>\n",
       "      <td>17231</td>\n",
       "      <td>15006</td>\n",
       "      <td>1912</td>\n",
       "      <td>3796</td>\n",
       "    </tr>\n",
       "  </tbody>\n",
       "</table>\n",
       "</div>"
      ],
      "text/plain": [
       "Data   AdultIncome                     CelebA                      \\\n",
       "Label          0.0           1.0          0.0           1.0         \n",
       "Gender      Female   Male Female  Male Female   Male Female  Male   \n",
       "Train         9592  15128   1179  6662  71629  66874  22880  1387   \n",
       "Test          4831   7604    590  3256   9767   7535   2480   180   \n",
       "\n",
       "Data   DutchConsensus                       \n",
       "Label             0.0           1.0         \n",
       "Gender         Female   Male Female   Male  \n",
       "Train           69117  59608   7991  15064  \n",
       "Test            17231  15006   1912   3796  "
      ]
     },
     "execution_count": 1110,
     "metadata": {},
     "output_type": "execute_result"
    }
   ],
   "source": [
    "data_sizes.T"
   ]
  },
  {
   "cell_type": "code",
   "execution_count": 1111,
   "id": "charming-midwest",
   "metadata": {},
   "outputs": [
    {
     "name": "stdout",
     "output_type": "stream",
     "text": [
      "\\begin{tabular}{lrrrrrrrrrrrr}\n",
      "\\toprule\n",
      "Data & \\multicolumn{4}{c}{AdultIncome} & \\multicolumn{4}{c}{CelebA} & \\multicolumn{4}{c}{DutchConsensus} \\\\\n",
      "Label & \\multicolumn{2}{c}{0.0} & \\multicolumn{2}{c}{1.0} & \\multicolumn{2}{c}{0.0} & \\multicolumn{2}{c}{1.0} & \\multicolumn{2}{c}{0.0} & \\multicolumn{2}{c}{1.0} \\\\\n",
      "Gender &      Female &   Male & Female &  Male & Female &   Male & Female &  Male &         Female &   Male & Female &   Male \\\\\n",
      "\\midrule\n",
      "Train &        9592 &  15128 &   1179 &  6662 &  71629 &  66874 &  22880 &  1387 &          69117 &  59608 &   7991 &  15064 \\\\\n",
      "Test  &        4831 &   7604 &    590 &  3256 &   9767 &   7535 &   2480 &   180 &          17231 &  15006 &   1912 &   3796 \\\\\n",
      "\\bottomrule\n",
      "\\end{tabular}\n",
      "\n"
     ]
    }
   ],
   "source": [
    "print(data_sizes.T\n",
    " .to_latex(multicolumn_format='c',escape=False)\n",
    ")"
   ]
  },
  {
   "cell_type": "markdown",
   "id": "adolescent-mobility",
   "metadata": {},
   "source": [
    "## Adult Income"
   ]
  },
  {
   "cell_type": "code",
   "execution_count": 1171,
   "id": "artificial-final",
   "metadata": {},
   "outputs": [],
   "source": [
    "pd.options.display.float_format = '{:.5%}'.format"
   ]
  },
  {
   "cell_type": "markdown",
   "id": "c0815a25-5450-4c9b-a908-37549694564c",
   "metadata": {},
   "source": [
    "#### Table 5"
   ]
  },
  {
   "cell_type": "code",
   "execution_count": 1169,
   "id": "floppy-youth",
   "metadata": {},
   "outputs": [],
   "source": [
    "income_gs_eo_df = process_table(income_gs_sweeps_df, method_suffix='', \n",
    "                             show_gap=False,\n",
    "                             tuple_header='EO',\n",
    "                             constraint='eo'\n",
    "                            )\n",
    "income_gs_dp_df = process_table(income_gs_sweeps_df, method_suffix='', \n",
    "                             show_gap=False,\n",
    "                             tuple_header='DP',\n",
    "                             constraint='dp'\n",
    "                            )"
   ]
  },
  {
   "cell_type": "code",
   "execution_count": 1172,
   "id": "olive-croatia",
   "metadata": {},
   "outputs": [
    {
     "data": {
      "text/html": [
       "<div>\n",
       "<style scoped>\n",
       "    .dataframe tbody tr th:only-of-type {\n",
       "        vertical-align: middle;\n",
       "    }\n",
       "\n",
       "    .dataframe tbody tr th {\n",
       "        vertical-align: top;\n",
       "    }\n",
       "\n",
       "    .dataframe thead tr th {\n",
       "        text-align: left;\n",
       "    }\n",
       "\n",
       "    .dataframe thead tr:last-of-type th {\n",
       "        text-align: right;\n",
       "    }\n",
       "</style>\n",
       "<table border=\"1\" class=\"dataframe\">\n",
       "  <thead>\n",
       "    <tr>\n",
       "      <th></th>\n",
       "      <th></th>\n",
       "      <th colspan=\"4\" halign=\"left\">EO</th>\n",
       "      <th colspan=\"4\" halign=\"left\">DP</th>\n",
       "    </tr>\n",
       "    <tr>\n",
       "      <th></th>\n",
       "      <th></th>\n",
       "      <th colspan=\"2\" halign=\"left\">Combined Loss</th>\n",
       "      <th colspan=\"2\" halign=\"left\">Fairness Violation</th>\n",
       "      <th colspan=\"2\" halign=\"left\">Combined Loss</th>\n",
       "      <th colspan=\"2\" halign=\"left\">Fairness Violation</th>\n",
       "    </tr>\n",
       "    <tr>\n",
       "      <th></th>\n",
       "      <th></th>\n",
       "      <th>Train</th>\n",
       "      <th>Test</th>\n",
       "      <th>Train</th>\n",
       "      <th>Test</th>\n",
       "      <th>Train</th>\n",
       "      <th>Test</th>\n",
       "      <th>Train</th>\n",
       "      <th>Test</th>\n",
       "    </tr>\n",
       "    <tr>\n",
       "      <th>$\\epsilon$</th>\n",
       "      <th>Method</th>\n",
       "      <th></th>\n",
       "      <th></th>\n",
       "      <th></th>\n",
       "      <th></th>\n",
       "      <th></th>\n",
       "      <th></th>\n",
       "      <th></th>\n",
       "      <th></th>\n",
       "    </tr>\n",
       "  </thead>\n",
       "  <tbody>\n",
       "    <tr>\n",
       "      <th rowspan=\"2\" valign=\"top\">\\multirow{2}{*}{0.01}</th>\n",
       "      <th>FIFA</th>\n",
       "      <td>14.77618%</td>\n",
       "      <td>14.93573%</td>\n",
       "      <td>8.53851%</td>\n",
       "      <td>8.50086%</td>\n",
       "      <td>13.75700%</td>\n",
       "      <td>14.05881%</td>\n",
       "      <td>0.08609%</td>\n",
       "      <td>0.00999%</td>\n",
       "    </tr>\n",
       "    <tr>\n",
       "      <th>Vanilla</th>\n",
       "      <td>16.68724%</td>\n",
       "      <td>17.28659%</td>\n",
       "      <td>10.39000%</td>\n",
       "      <td>10.92794%</td>\n",
       "      <td>14.83347%</td>\n",
       "      <td>15.09909%</td>\n",
       "      <td>3.32436%</td>\n",
       "      <td>3.65903%</td>\n",
       "    </tr>\n",
       "    <tr>\n",
       "      <th rowspan=\"2\" valign=\"top\">\\multirow{2}{*}{0.05}</th>\n",
       "      <th>FIFA</th>\n",
       "      <td>14.79263%</td>\n",
       "      <td>14.91599%</td>\n",
       "      <td>8.57436%</td>\n",
       "      <td>8.50841%</td>\n",
       "      <td>13.74952%</td>\n",
       "      <td>14.03440%</td>\n",
       "      <td>0.11811%</td>\n",
       "      <td>0.01008%</td>\n",
       "    </tr>\n",
       "    <tr>\n",
       "      <th>Vanilla</th>\n",
       "      <td>16.68724%</td>\n",
       "      <td>17.28659%</td>\n",
       "      <td>10.39000%</td>\n",
       "      <td>10.92794%</td>\n",
       "      <td>14.83475%</td>\n",
       "      <td>15.09909%</td>\n",
       "      <td>3.32895%</td>\n",
       "      <td>3.65903%</td>\n",
       "    </tr>\n",
       "    <tr>\n",
       "      <th rowspan=\"2\" valign=\"top\">\\multirow{2}{*}{0.10}</th>\n",
       "      <th>FIFA</th>\n",
       "      <td>14.70959%</td>\n",
       "      <td>14.88935%</td>\n",
       "      <td>8.17597%</td>\n",
       "      <td>8.16283%</td>\n",
       "      <td>13.72278%</td>\n",
       "      <td>14.03193%</td>\n",
       "      <td>0.11331%</td>\n",
       "      <td>0.01011%</td>\n",
       "    </tr>\n",
       "    <tr>\n",
       "      <th>Vanilla</th>\n",
       "      <td>16.68724%</td>\n",
       "      <td>17.28659%</td>\n",
       "      <td>10.39000%</td>\n",
       "      <td>10.92794%</td>\n",
       "      <td>14.82782%</td>\n",
       "      <td>15.09909%</td>\n",
       "      <td>3.31507%</td>\n",
       "      <td>3.65903%</td>\n",
       "    </tr>\n",
       "  </tbody>\n",
       "</table>\n",
       "</div>"
      ],
      "text/plain": [
       "                                         EO                               \\\n",
       "                              Combined Loss           Fairness Violation   \n",
       "                                      Train      Test              Train   \n",
       "$\\epsilon$            Method                                               \n",
       "\\multirow{2}{*}{0.01} FIFA        14.77618% 14.93573%           8.53851%   \n",
       "                      Vanilla     16.68724% 17.28659%          10.39000%   \n",
       "\\multirow{2}{*}{0.05} FIFA        14.79263% 14.91599%           8.57436%   \n",
       "                      Vanilla     16.68724% 17.28659%          10.39000%   \n",
       "\\multirow{2}{*}{0.10} FIFA        14.70959% 14.88935%           8.17597%   \n",
       "                      Vanilla     16.68724% 17.28659%          10.39000%   \n",
       "\n",
       "                                                   DP            \\\n",
       "                                        Combined Loss             \n",
       "                                   Test         Train      Test   \n",
       "$\\epsilon$            Method                                      \n",
       "\\multirow{2}{*}{0.01} FIFA     8.50086%     13.75700% 14.05881%   \n",
       "                      Vanilla 10.92794%     14.83347% 15.09909%   \n",
       "\\multirow{2}{*}{0.05} FIFA     8.50841%     13.74952% 14.03440%   \n",
       "                      Vanilla 10.92794%     14.83475% 15.09909%   \n",
       "\\multirow{2}{*}{0.10} FIFA     8.16283%     13.72278% 14.03193%   \n",
       "                      Vanilla 10.92794%     14.82782% 15.09909%   \n",
       "\n",
       "                                                           \n",
       "                              Fairness Violation           \n",
       "                                           Train     Test  \n",
       "$\\epsilon$            Method                               \n",
       "\\multirow{2}{*}{0.01} FIFA              0.08609% 0.00999%  \n",
       "                      Vanilla           3.32436% 3.65903%  \n",
       "\\multirow{2}{*}{0.05} FIFA              0.11811% 0.01008%  \n",
       "                      Vanilla           3.32895% 3.65903%  \n",
       "\\multirow{2}{*}{0.10} FIFA              0.11331% 0.01011%  \n",
       "                      Vanilla           3.31507% 3.65903%  "
      ]
     },
     "execution_count": 1172,
     "metadata": {},
     "output_type": "execute_result"
    }
   ],
   "source": [
    "pd.concat([income_gs_eo_df,income_gs_dp_df],axis=1)"
   ]
  },
  {
   "cell_type": "code",
   "execution_count": 1173,
   "id": "distinct-advocacy",
   "metadata": {},
   "outputs": [
    {
     "name": "stdout",
     "output_type": "stream",
     "text": [
      "\\begin{tabular}{llrrrrrrrr}\n",
      "\\toprule\n",
      "                      &         & \\multicolumn{4}{c}{EO} & \\multicolumn{4}{c}{DP} \\\\\n",
      "                      &         & \\multicolumn{2}{c}{Combined Loss} & \\multicolumn{2}{c}{Fairness Violation} & \\multicolumn{2}{c}{Combined Loss} & \\multicolumn{2}{c}{Fairness Violation} \\\\\n",
      "                      &         &         Train &      Test &              Train &      Test &         Train &      Test &              Train &     Test \\\\\n",
      "$\\epsilon$ & Method &               &           &                    &           &               &           &                    &          \\\\\n",
      "\\midrule\n",
      "\\multirow{2}{*}{0.01} & FIFA &     14.77618% & 14.93573% &           8.53851% &  8.50086% &     13.75700% & 14.05881% &           0.08609% & 0.00999% \\\\\n",
      "                      & Vanilla &     16.68724% & 17.28659% &          10.39000% & 10.92794% &     14.83347% & 15.09909% &           3.32436% & 3.65903% \\\\\n",
      "\\multirow{2}{*}{0.05} & FIFA &     14.79263% & 14.91599% &           8.57436% &  8.50841% &     13.74952% & 14.03440% &           0.11811% & 0.01008% \\\\\n",
      "                      & Vanilla &     16.68724% & 17.28659% &          10.39000% & 10.92794% &     14.83475% & 15.09909% &           3.32895% & 3.65903% \\\\\n",
      "\\multirow{2}{*}{0.10} & FIFA &     14.70959% & 14.88935% &           8.17597% &  8.16283% &     13.72278% & 14.03193% &           0.11331% & 0.01011% \\\\\n",
      "                      & Vanilla &     16.68724% & 17.28659% &          10.39000% & 10.92794% &     14.82782% & 15.09909% &           3.31507% & 3.65903% \\\\\n",
      "\\bottomrule\n",
      "\\end{tabular}\n",
      "\n"
     ]
    }
   ],
   "source": [
    "print(\n",
    "    pd.concat([income_gs_eo_df,income_gs_dp_df],axis=1).to_latex( multicolumn_format='c',escape=False)\n",
    ")"
   ]
  },
  {
   "cell_type": "markdown",
   "id": "0545d664-3c0f-481d-af3e-b9176fb662e3",
   "metadata": {},
   "source": [
    "#### Table 2"
   ]
  },
  {
   "cell_type": "code",
   "execution_count": 773,
   "id": "prostate-causing",
   "metadata": {},
   "outputs": [],
   "source": [
    "income_gs_sweeps_df = pd.read_csv(\"./csv_data/income_grid_search.csv\",)\n",
    "income_eg_sweeps_df = pd.read_csv(\"./csv_data/income_expgrad.csv\",)\n",
    "\n",
    "income_gs_sweeps_df['loss_type'] = income_gs_sweeps_df['loss_type'].apply(lambda s : 'standard' if s == 'standard' else 'fdam')\n",
    "income_eg_sweeps_df['loss_type'] = income_eg_sweeps_df['loss_type'].apply(lambda s : 'standard' if s == 'standard' else 'fdam')"
   ]
  },
  {
   "cell_type": "code",
   "execution_count": 774,
   "id": "spatial-bishop",
   "metadata": {},
   "outputs": [],
   "source": [
    "dutch_eg_sweeps_df = pd.read_csv(\"./csv_data/dutch_expgrad.csv\", )\n",
    "dutch_eg_sweeps_df['loss_type'] = dutch_eg_sweeps_df['loss_type'].apply(lambda s : 'standard' if s == 'standard' else 'fdam')"
   ]
  },
  {
   "cell_type": "code",
   "execution_count": 775,
   "id": "czech-declaration",
   "metadata": {},
   "outputs": [],
   "source": [
    "income_eg_df = process_table(income_eg_sweeps_df, method_suffix='', \n",
    "                             show_gap=False,\n",
    "                             tuple_header='AdultIncome'\n",
    "                            )\n",
    "ducth_eg_df = process_table(dutch_eg_sweeps_df, method_suffix='', \n",
    "                             show_gap=False,\n",
    "                             tuple_header='DutchConsensus'\n",
    "                            )"
   ]
  },
  {
   "cell_type": "code",
   "execution_count": 776,
   "id": "processed-facing",
   "metadata": {},
   "outputs": [],
   "source": [
    "expg_df = pd.concat([income_eg_df,ducth_eg_df],axis=1)"
   ]
  },
  {
   "cell_type": "code",
   "execution_count": 790,
   "id": "imperial-advice",
   "metadata": {},
   "outputs": [
    {
     "data": {
      "text/html": [
       "<div>\n",
       "<style scoped>\n",
       "    .dataframe tbody tr th:only-of-type {\n",
       "        vertical-align: middle;\n",
       "    }\n",
       "\n",
       "    .dataframe tbody tr th {\n",
       "        vertical-align: top;\n",
       "    }\n",
       "\n",
       "    .dataframe thead tr th {\n",
       "        text-align: left;\n",
       "    }\n",
       "\n",
       "    .dataframe thead tr:last-of-type th {\n",
       "        text-align: right;\n",
       "    }\n",
       "</style>\n",
       "<table border=\"1\" class=\"dataframe\">\n",
       "  <thead>\n",
       "    <tr>\n",
       "      <th></th>\n",
       "      <th></th>\n",
       "      <th colspan=\"4\" halign=\"left\">AdultIncome</th>\n",
       "      <th colspan=\"4\" halign=\"left\">DutchConsensus</th>\n",
       "    </tr>\n",
       "    <tr>\n",
       "      <th></th>\n",
       "      <th></th>\n",
       "      <th colspan=\"2\" halign=\"left\">Combined Loss</th>\n",
       "      <th colspan=\"2\" halign=\"left\">Fairness Violation</th>\n",
       "      <th colspan=\"2\" halign=\"left\">Combined Loss</th>\n",
       "      <th colspan=\"2\" halign=\"left\">Fairness Violation</th>\n",
       "    </tr>\n",
       "    <tr>\n",
       "      <th></th>\n",
       "      <th></th>\n",
       "      <th>Train</th>\n",
       "      <th>Test</th>\n",
       "      <th>Train</th>\n",
       "      <th>Test</th>\n",
       "      <th>Train</th>\n",
       "      <th>Test</th>\n",
       "      <th>Train</th>\n",
       "      <th>Test</th>\n",
       "    </tr>\n",
       "    <tr>\n",
       "      <th>$\\epsilon$</th>\n",
       "      <th>Method</th>\n",
       "      <th></th>\n",
       "      <th></th>\n",
       "      <th></th>\n",
       "      <th></th>\n",
       "      <th></th>\n",
       "      <th></th>\n",
       "      <th></th>\n",
       "      <th></th>\n",
       "    </tr>\n",
       "  </thead>\n",
       "  <tbody>\n",
       "    <tr>\n",
       "      <th rowspan=\"2\" valign=\"top\">\\multirow{2}{*}{0.01}</th>\n",
       "      <th>FIFA</th>\n",
       "      <td>15.72170%</td>\n",
       "      <td>13.48116%</td>\n",
       "      <td>7.88627%</td>\n",
       "      <td>2.77756%</td>\n",
       "      <td>12.80131%</td>\n",
       "      <td>13.16857%</td>\n",
       "      <td>3.72201%</td>\n",
       "      <td>4.35324%</td>\n",
       "    </tr>\n",
       "    <tr>\n",
       "      <th>Vanilla</th>\n",
       "      <td>13.95614%</td>\n",
       "      <td>14.30009%</td>\n",
       "      <td>6.78607%</td>\n",
       "      <td>6.74747%</td>\n",
       "      <td>12.84442%</td>\n",
       "      <td>13.22665%</td>\n",
       "      <td>3.79351%</td>\n",
       "      <td>4.43227%</td>\n",
       "    </tr>\n",
       "    <tr>\n",
       "      <th rowspan=\"2\" valign=\"top\">\\multirow{2}{*}{0.05}</th>\n",
       "      <th>FIFA</th>\n",
       "      <td>13.56342%</td>\n",
       "      <td>13.54908%</td>\n",
       "      <td>5.70877%</td>\n",
       "      <td>4.93145%</td>\n",
       "      <td>12.88197%</td>\n",
       "      <td>13.22278%</td>\n",
       "      <td>3.85249%</td>\n",
       "      <td>4.43227%</td>\n",
       "    </tr>\n",
       "    <tr>\n",
       "      <th>Vanilla</th>\n",
       "      <td>14.46966%</td>\n",
       "      <td>14.86473%</td>\n",
       "      <td>7.59619%</td>\n",
       "      <td>7.85747%</td>\n",
       "      <td>12.88178%</td>\n",
       "      <td>13.22355%</td>\n",
       "      <td>3.85249%</td>\n",
       "      <td>4.43227%</td>\n",
       "    </tr>\n",
       "    <tr>\n",
       "      <th rowspan=\"2\" valign=\"top\">\\multirow{2}{*}{0.10}</th>\n",
       "      <th>FIFA</th>\n",
       "      <td>13.58569%</td>\n",
       "      <td>13.90430%</td>\n",
       "      <td>6.12168%</td>\n",
       "      <td>5.96891%</td>\n",
       "      <td>12.87168%</td>\n",
       "      <td>13.17477%</td>\n",
       "      <td>3.83258%</td>\n",
       "      <td>4.35324%</td>\n",
       "    </tr>\n",
       "    <tr>\n",
       "      <th>Vanilla</th>\n",
       "      <td>15.53416%</td>\n",
       "      <td>15.93873%</td>\n",
       "      <td>9.75137%</td>\n",
       "      <td>10.07504%</td>\n",
       "      <td>12.87569%</td>\n",
       "      <td>13.20988%</td>\n",
       "      <td>3.83921%</td>\n",
       "      <td>4.40593%</td>\n",
       "    </tr>\n",
       "  </tbody>\n",
       "</table>\n",
       "</div>"
      ],
      "text/plain": [
       "                                AdultIncome                               \\\n",
       "                              Combined Loss           Fairness Violation   \n",
       "                                      Train      Test              Train   \n",
       "$\\epsilon$            Method                                               \n",
       "\\multirow{2}{*}{0.01} FIFA        15.72170% 13.48116%           7.88627%   \n",
       "                      Vanilla     13.95614% 14.30009%           6.78607%   \n",
       "\\multirow{2}{*}{0.05} FIFA        13.56342% 13.54908%           5.70877%   \n",
       "                      Vanilla     14.46966% 14.86473%           7.59619%   \n",
       "\\multirow{2}{*}{0.10} FIFA        13.58569% 13.90430%           6.12168%   \n",
       "                      Vanilla     15.53416% 15.93873%           9.75137%   \n",
       "\n",
       "                                        DutchConsensus            \\\n",
       "                                         Combined Loss             \n",
       "                                   Test          Train      Test   \n",
       "$\\epsilon$            Method                                       \n",
       "\\multirow{2}{*}{0.01} FIFA     2.77756%      12.80131% 13.16857%   \n",
       "                      Vanilla  6.74747%      12.84442% 13.22665%   \n",
       "\\multirow{2}{*}{0.05} FIFA     4.93145%      12.88197% 13.22278%   \n",
       "                      Vanilla  7.85747%      12.88178% 13.22355%   \n",
       "\\multirow{2}{*}{0.10} FIFA     5.96891%      12.87168% 13.17477%   \n",
       "                      Vanilla 10.07504%      12.87569% 13.20988%   \n",
       "\n",
       "                                                           \n",
       "                              Fairness Violation           \n",
       "                                           Train     Test  \n",
       "$\\epsilon$            Method                               \n",
       "\\multirow{2}{*}{0.01} FIFA              3.72201% 4.35324%  \n",
       "                      Vanilla           3.79351% 4.43227%  \n",
       "\\multirow{2}{*}{0.05} FIFA              3.85249% 4.43227%  \n",
       "                      Vanilla           3.85249% 4.43227%  \n",
       "\\multirow{2}{*}{0.10} FIFA              3.83258% 4.35324%  \n",
       "                      Vanilla           3.83921% 4.40593%  "
      ]
     },
     "execution_count": 790,
     "metadata": {},
     "output_type": "execute_result"
    }
   ],
   "source": [
    "expg_df"
   ]
  },
  {
   "cell_type": "code",
   "execution_count": 780,
   "id": "private-cookie",
   "metadata": {},
   "outputs": [
    {
     "name": "stdout",
     "output_type": "stream",
     "text": [
      "\\begin{tabular}{llrrrrrrrr}\n",
      "\\toprule\n",
      "                      &         & \\multicolumn{4}{c}{AdultIncome} & \\multicolumn{4}{c}{DutchConsensus} \\\\\n",
      "                      &         & \\multicolumn{2}{c}{Combined Loss} & \\multicolumn{2}{c}{Fairness Violation} & \\multicolumn{2}{c}{Combined Loss} & \\multicolumn{2}{c}{Fairness Violation} \\\\\n",
      "                      &         &         Train &     Test &              Train &     Test &          Train &     Test &              Train &    Test \\\\\n",
      "$\\epsilon$ & Method &               &          &                    &          &                &          &                    &         \\\\\n",
      "\\midrule\n",
      "\\multirow{2}{*}{0.01} & FIFA &      15.7217% & 13.4812% &            7.8863% &  2.7776% &       12.8013% & 13.1686% &            3.7220% & 4.3532% \\\\\n",
      "                      & Vanilla &      13.9561% & 14.3001% &            6.7861% &  6.7475% &       12.8444% & 13.2267% &            3.7935% & 4.4323% \\\\\n",
      "\\multirow{2}{*}{0.05} & FIFA &      13.5634% & 13.5491% &            5.7088% &  4.9315% &       12.8820% & 13.2228% &            3.8525% & 4.4323% \\\\\n",
      "                      & Vanilla &      14.4697% & 14.8647% &            7.5962% &  7.8575% &       12.8818% & 13.2236% &            3.8525% & 4.4323% \\\\\n",
      "\\multirow{2}{*}{0.10} & FIFA &      13.5857% & 13.9043% &            6.1217% &  5.9689% &       12.8717% & 13.1748% &            3.8326% & 4.3532% \\\\\n",
      "                      & Vanilla &      15.5342% & 15.9387% &            9.7514% & 10.0750% &       12.8757% & 13.2099% &            3.8392% & 4.4059% \\\\\n",
      "\\bottomrule\n",
      "\\end{tabular}\n",
      "\n"
     ]
    }
   ],
   "source": [
    "print(\n",
    "    expg_df.to_latex( multicolumn_format='c', escape=False)\n",
    ")"
   ]
  },
  {
   "cell_type": "markdown",
   "id": "together-latino",
   "metadata": {},
   "source": [
    "## CelebaA"
   ]
  },
  {
   "cell_type": "code",
   "execution_count": 1117,
   "id": "european-puppy",
   "metadata": {},
   "outputs": [],
   "source": [
    "pd.options.display.float_format = '{:.2%}'.format"
   ]
  },
  {
   "cell_type": "code",
   "execution_count": 1113,
   "id": "actual-newspaper",
   "metadata": {},
   "outputs": [],
   "source": [
    "bld_sweeps_df=pd.read_csv(\"./csv_data/blond_grid_search.csv\")\n",
    "bld_rep_sweeps_df = pd.read_csv(\"./csv_data/blond_grid_search_best_repeated.csv\")\n"
   ]
  },
  {
   "cell_type": "markdown",
   "id": "19872f78-468e-4db4-8226-fcefd4fea6b5",
   "metadata": {},
   "source": [
    "#### Table 1"
   ]
  },
  {
   "cell_type": "code",
   "execution_count": 1121,
   "id": "convenient-arkansas",
   "metadata": {},
   "outputs": [],
   "source": [
    "bld_eo_df = process_table(pd.concat([bld_sweeps_df,bld_rep_sweeps_df]), method_suffix='-GS', use_drw=0, \n",
    "                             show_gap=True,\n",
    "                             tuple_header=None,\n",
    "                          constraint='eo'\n",
    "                            )"
   ]
  },
  {
   "cell_type": "code",
   "execution_count": 711,
   "id": "convenient-provider",
   "metadata": {},
   "outputs": [
    {
     "name": "stdout",
     "output_type": "stream",
     "text": [
      "\\begin{tabular}{llrrrrrrrrr}\n",
      "\\toprule\n",
      "               & \\$\\textbackslash epsilon\\$ & \\multicolumn{3}{c}{\\textbackslash multirow\\{3\\}\\{*\\}\\{0.01\\}} & \\multicolumn{3}{c}{\\textbackslash multirow\\{3\\}\\{*\\}\\{0.05\\}} & \\multicolumn{3}{c}{\\textbackslash multirow\\{3\\}\\{*\\}\\{0.10\\}} \\\\\n",
      "               & Method &               FIFA-GS & LDAM-GS & Vanilla-GS &               FIFA-GS & LDAM-GS & Vanilla-GS &               FIFA-GS & LDAM-GS & Vanilla-GS \\\\\n",
      "\\midrule\n",
      "Combined Loss & Train &                 7.37\\% &   5.22\\% &      7.14\\% &                 5.46\\% &   5.47\\% &      8.84\\% &                 5.92\\% &   8.48\\% &      8.90\\% \\\\\n",
      "               & Test &                 6.71\\% &   7.29\\% &     14.01\\% &                 6.34\\% &   7.38\\% &     13.05\\% &                 6.54\\% &   7.34\\% &     16.71\\% \\\\\n",
      "               & Gap &                 0.66\\% &   2.07\\% &      6.87\\% &                 0.88\\% &   1.91\\% &      4.21\\% &                 0.62\\% &   1.14\\% &      7.82\\% \\\\\n",
      "Fairness Violation & Train &                 5.31\\% &   2.32\\% &      6.69\\% &                 2.63\\% &   2.57\\% &      9.45\\% &                 3.11\\% &   6.93\\% &     11.37\\% \\\\\n",
      "               & Test &                 2.75\\% &   5.39\\% &     20.29\\% &                 3.29\\% &   5.57\\% &     17.92\\% &                 2.65\\% &   2.96\\% &     26.15\\% \\\\\n",
      "               & Gap &                 2.57\\% &   3.07\\% &     13.59\\% &                 0.66\\% &   3.00\\% &      8.47\\% &                 0.46\\% &   3.97\\% &     14.78\\% \\\\\n",
      "Balanced Error & Train &                 9.43\\% &   8.12\\% &      7.59\\% &                 8.29\\% &   8.36\\% &      8.22\\% &                 8.72\\% &  10.04\\% &      6.42\\% \\\\\n",
      "               & Test &                10.67\\% &   9.20\\% &      7.74\\% &                 9.39\\% &   9.19\\% &      8.17\\% &                10.43\\% &  11.72\\% &      7.27\\% \\\\\n",
      "               & Gap &                 1.25\\% &   1.07\\% &      0.15\\% &                 1.10\\% &   0.83\\% &      0.05\\% &                 1.70\\% &   1.68\\% &      0.85\\% \\\\\n",
      "\\bottomrule\n",
      "\\end{tabular}\n",
      "\n"
     ]
    }
   ],
   "source": [
    "print(\n",
    "    bld_eo_df.T.to_latex( multicolumn_format='c')\n",
    ")"
   ]
  },
  {
   "cell_type": "markdown",
   "id": "ced29e03-50eb-431c-a440-015a1c4b0ff4",
   "metadata": {},
   "source": [
    "#### Table 4"
   ]
  },
  {
   "cell_type": "code",
   "execution_count": 1151,
   "id": "southeast-syracuse",
   "metadata": {},
   "outputs": [],
   "source": [
    "bld_all_sweeps = pd.concat([bld_sweeps_df,bld_rep_sweeps_df])\n",
    "# grouping all experiments correspond to FIFA\n",
    "bld_all_sweeps['loss_type'] = bld_all_sweeps['loss_type'].apply(lambda s : 'standard' if s == 'standard' else 'fdam')\n"
   ]
  },
  {
   "cell_type": "code",
   "execution_count": 1162,
   "id": "continuing-improvement",
   "metadata": {},
   "outputs": [],
   "source": [
    "bld_eo_df = process_table(bld_all_sweeps, method_suffix='', use_drw=0, \n",
    "                          constraint='eo',\n",
    "                             show_gap=False,\n",
    "                             tuple_header='EO',\n",
    "                            )"
   ]
  },
  {
   "cell_type": "code",
   "execution_count": 1163,
   "id": "wicked-expense",
   "metadata": {},
   "outputs": [],
   "source": [
    "bld_dp_df = process_table(bld_all_sweeps, method_suffix='', use_drw=0, \n",
    "                             show_gap=False,\n",
    "                             tuple_header='DP',\n",
    "                          constraint='dp',\n",
    "\n",
    "                            )"
   ]
  },
  {
   "cell_type": "code",
   "execution_count": 1164,
   "id": "herbal-charlotte",
   "metadata": {},
   "outputs": [
    {
     "data": {
      "text/html": [
       "<div>\n",
       "<style scoped>\n",
       "    .dataframe tbody tr th:only-of-type {\n",
       "        vertical-align: middle;\n",
       "    }\n",
       "\n",
       "    .dataframe tbody tr th {\n",
       "        vertical-align: top;\n",
       "    }\n",
       "\n",
       "    .dataframe thead tr th {\n",
       "        text-align: left;\n",
       "    }\n",
       "\n",
       "    .dataframe thead tr:last-of-type th {\n",
       "        text-align: right;\n",
       "    }\n",
       "</style>\n",
       "<table border=\"1\" class=\"dataframe\">\n",
       "  <thead>\n",
       "    <tr>\n",
       "      <th></th>\n",
       "      <th></th>\n",
       "      <th colspan=\"4\" halign=\"left\">EO</th>\n",
       "      <th colspan=\"4\" halign=\"left\">DP</th>\n",
       "    </tr>\n",
       "    <tr>\n",
       "      <th></th>\n",
       "      <th></th>\n",
       "      <th colspan=\"2\" halign=\"left\">Combined Loss</th>\n",
       "      <th colspan=\"2\" halign=\"left\">Fairness Violation</th>\n",
       "      <th colspan=\"2\" halign=\"left\">Combined Loss</th>\n",
       "      <th colspan=\"2\" halign=\"left\">Fairness Violation</th>\n",
       "    </tr>\n",
       "    <tr>\n",
       "      <th></th>\n",
       "      <th></th>\n",
       "      <th>Train</th>\n",
       "      <th>Test</th>\n",
       "      <th>Train</th>\n",
       "      <th>Test</th>\n",
       "      <th>Train</th>\n",
       "      <th>Test</th>\n",
       "      <th>Train</th>\n",
       "      <th>Test</th>\n",
       "    </tr>\n",
       "    <tr>\n",
       "      <th>$\\epsilon$</th>\n",
       "      <th>Method</th>\n",
       "      <th></th>\n",
       "      <th></th>\n",
       "      <th></th>\n",
       "      <th></th>\n",
       "      <th></th>\n",
       "      <th></th>\n",
       "      <th></th>\n",
       "      <th></th>\n",
       "    </tr>\n",
       "  </thead>\n",
       "  <tbody>\n",
       "    <tr>\n",
       "      <th rowspan=\"2\" valign=\"top\">\\multirow{2}{*}{0.01}</th>\n",
       "      <th>FIFA</th>\n",
       "      <td>7.37%</td>\n",
       "      <td>6.71%</td>\n",
       "      <td>5.31%</td>\n",
       "      <td>2.75%</td>\n",
       "      <td>8.65%</td>\n",
       "      <td>7.21%</td>\n",
       "      <td>4.84%</td>\n",
       "      <td>1.45%</td>\n",
       "    </tr>\n",
       "    <tr>\n",
       "      <th>Vanilla</th>\n",
       "      <td>7.14%</td>\n",
       "      <td>14.01%</td>\n",
       "      <td>6.69%</td>\n",
       "      <td>20.29%</td>\n",
       "      <td>10.74%</td>\n",
       "      <td>10.43%</td>\n",
       "      <td>4.72%</td>\n",
       "      <td>1.35%</td>\n",
       "    </tr>\n",
       "    <tr>\n",
       "      <th rowspan=\"2\" valign=\"top\">\\multirow{2}{*}{0.05}</th>\n",
       "      <th>FIFA</th>\n",
       "      <td>5.46%</td>\n",
       "      <td>6.34%</td>\n",
       "      <td>2.63%</td>\n",
       "      <td>3.29%</td>\n",
       "      <td>10.02%</td>\n",
       "      <td>9.40%</td>\n",
       "      <td>4.73%</td>\n",
       "      <td>1.07%</td>\n",
       "    </tr>\n",
       "    <tr>\n",
       "      <th>Vanilla</th>\n",
       "      <td>8.84%</td>\n",
       "      <td>13.05%</td>\n",
       "      <td>9.45%</td>\n",
       "      <td>17.92%</td>\n",
       "      <td>12.14%</td>\n",
       "      <td>11.60%</td>\n",
       "      <td>8.34%</td>\n",
       "      <td>5.17%</td>\n",
       "    </tr>\n",
       "    <tr>\n",
       "      <th rowspan=\"2\" valign=\"top\">\\multirow{2}{*}{0.10}</th>\n",
       "      <th>FIFA</th>\n",
       "      <td>5.92%</td>\n",
       "      <td>6.54%</td>\n",
       "      <td>3.11%</td>\n",
       "      <td>2.65%</td>\n",
       "      <td>9.04%</td>\n",
       "      <td>8.32%</td>\n",
       "      <td>2.98%</td>\n",
       "      <td>0.04%</td>\n",
       "    </tr>\n",
       "    <tr>\n",
       "      <th>Vanilla</th>\n",
       "      <td>8.90%</td>\n",
       "      <td>16.71%</td>\n",
       "      <td>11.37%</td>\n",
       "      <td>26.15%</td>\n",
       "      <td>12.13%</td>\n",
       "      <td>11.66%</td>\n",
       "      <td>9.77%</td>\n",
       "      <td>6.83%</td>\n",
       "    </tr>\n",
       "  </tbody>\n",
       "</table>\n",
       "</div>"
      ],
      "text/plain": [
       "                                         EO                                   \\\n",
       "                              Combined Loss        Fairness Violation          \n",
       "                                      Train   Test              Train   Test   \n",
       "$\\epsilon$            Method                                                   \n",
       "\\multirow{2}{*}{0.01} FIFA            7.37%  6.71%              5.31%  2.75%   \n",
       "                      Vanilla         7.14% 14.01%              6.69% 20.29%   \n",
       "\\multirow{2}{*}{0.05} FIFA            5.46%  6.34%              2.63%  3.29%   \n",
       "                      Vanilla         8.84% 13.05%              9.45% 17.92%   \n",
       "\\multirow{2}{*}{0.10} FIFA            5.92%  6.54%              3.11%  2.65%   \n",
       "                      Vanilla         8.90% 16.71%             11.37% 26.15%   \n",
       "\n",
       "                                         DP                                  \n",
       "                              Combined Loss        Fairness Violation        \n",
       "                                      Train   Test              Train  Test  \n",
       "$\\epsilon$            Method                                                 \n",
       "\\multirow{2}{*}{0.01} FIFA            8.65%  7.21%              4.84% 1.45%  \n",
       "                      Vanilla        10.74% 10.43%              4.72% 1.35%  \n",
       "\\multirow{2}{*}{0.05} FIFA           10.02%  9.40%              4.73% 1.07%  \n",
       "                      Vanilla        12.14% 11.60%              8.34% 5.17%  \n",
       "\\multirow{2}{*}{0.10} FIFA            9.04%  8.32%              2.98% 0.04%  \n",
       "                      Vanilla        12.13% 11.66%              9.77% 6.83%  "
      ]
     },
     "execution_count": 1164,
     "metadata": {},
     "output_type": "execute_result"
    }
   ],
   "source": [
    "pd.concat([bld_eo_df,bld_dp_df],axis=1)"
   ]
  },
  {
   "cell_type": "code",
   "execution_count": 1165,
   "id": "flexible-compilation",
   "metadata": {},
   "outputs": [
    {
     "name": "stdout",
     "output_type": "stream",
     "text": [
      "\\begin{tabular}{llrrrrrrrr}\n",
      "\\toprule\n",
      "                      &         & \\multicolumn{4}{c}{EO} & \\multicolumn{4}{c}{DP} \\\\\n",
      "                      &         & \\multicolumn{2}{c}{Combined Loss} & \\multicolumn{2}{c}{Fairness Violation} & \\multicolumn{2}{c}{Combined Loss} & \\multicolumn{2}{c}{Fairness Violation} \\\\\n",
      "                      &         &         Train &   Test &              Train &   Test &         Train &   Test &              Train &  Test \\\\\n",
      "$\\epsilon$ & Method &               &        &                    &        &               &        &                    &       \\\\\n",
      "\\midrule\n",
      "\\multirow{2}{*}{0.01} & FIFA &         7.37% &  6.71% &              5.31% &  2.75% &         8.65% &  7.21% &              4.84% & 1.45% \\\\\n",
      "                      & Vanilla &         7.14% & 14.01% &              6.69% & 20.29% &        10.74% & 10.43% &              4.72% & 1.35% \\\\\n",
      "\\multirow{2}{*}{0.05} & FIFA &         5.46% &  6.34% &              2.63% &  3.29% &        10.02% &  9.40% &              4.73% & 1.07% \\\\\n",
      "                      & Vanilla &         8.84% & 13.05% &              9.45% & 17.92% &        12.14% & 11.60% &              8.34% & 5.17% \\\\\n",
      "\\multirow{2}{*}{0.10} & FIFA &         5.92% &  6.54% &              3.11% &  2.65% &         9.04% &  8.32% &              2.98% & 0.04% \\\\\n",
      "                      & Vanilla &         8.90% & 16.71% &             11.37% & 26.15% &        12.13% & 11.66% &              9.77% & 6.83% \\\\\n",
      "\\bottomrule\n",
      "\\end{tabular}\n",
      "\n"
     ]
    }
   ],
   "source": [
    "print(\n",
    "    pd.concat([bld_eo_df,bld_dp_df],axis=1).to_latex( multicolumn_format='c',escape=False)\n",
    ")"
   ]
  },
  {
   "cell_type": "markdown",
   "id": "lyric-malawi",
   "metadata": {},
   "source": [
    "## Plots"
   ]
  },
  {
   "cell_type": "code",
   "execution_count": 290,
   "id": "familiar-allen",
   "metadata": {},
   "outputs": [],
   "source": [
    "import seaborn as sns\n",
    "import matplotlib\n",
    "from matplotlib import pyplot as plt\n",
    "\n",
    "\n",
    "sns.set()\n",
    "sns.set(font_scale=1.5,)\n",
    "sns.set_style(\"white\")\n",
    "sns.set_style({'font.family': 'Times New Roman'})\n",
    "sns.set_palette(\"colorblind\")\n",
    "\n",
    "\n",
    "plt.rcParams.update({'font.size': 20, 'lines.linewidth':4, 'lines.markersize':12, \n",
    "                         'xtick.labelsize':15, 'ytick.labelsize':15, 'axes.labelsize':20,\n",
    "                         'axes.titlesize': 20, 'legend.fontsize':20,\n",
    "                         'pdf.fonttype': 42, 'ps.fonttype':42,\n",
    "                        'image.interpolation':'nearest', 'figure.figsize': (6,4),\n",
    "                     'text.usetex': True\n",
    "                     \n",
    "                    })\n",
    "tqdm.tqdm.pandas()\n",
    "# logging.getLogger().setLevel(logging.CRITICAL)"
   ]
  },
  {
   "cell_type": "markdown",
   "id": "swiss-think",
   "metadata": {},
   "source": [
    "### Table 4: Covergage of $C$"
   ]
  },
  {
   "cell_type": "code",
   "execution_count": null,
   "id": "thorough-profit",
   "metadata": {},
   "outputs": [],
   "source": [
    "eo_C_df=(show_agg_df(bld_sweeps_df,added_cols=['max_m'])\n",
    " .query(\"constraint=='eo'\").query(\"use_drw==0\").query('loss_type!=\"standard\"')\n",
    " .reset_index()\n",
    " [['constraint', 'violation_eps', 'loss_type', 'max_m']]\n",
    ")"
   ]
  },
  {
   "cell_type": "code",
   "execution_count": 781,
   "id": "alpha-investigation",
   "metadata": {},
   "outputs": [
    {
     "data": {
      "image/png": "[encoded data removed]",
      "text/plain": [
       "<Figure size 432x288 with 1 Axes>"
      ]
     },
     "metadata": {},
     "output_type": "display_data"
    }
   ],
   "source": [
    "ax=plt.gca()\n",
    "\n",
    "\n",
    "\n",
    "sns.histplot(data=(bld_sweeps_df.drop_duplicates('exp_id')\n",
    "                   .query(\"constraint=='eo'\")\n",
    "                   .query(\"loss_type=='fdam'\").reset_index()\n",
    "                  ),\n",
    "             x='max_m',\n",
    "             stat='density',\n",
    "             color='C0',\n",
    "             bins=25,\n",
    "             log_scale=(True, False),\n",
    "             element='step',cumulative=True,\n",
    "             alpha=0.2,\n",
    "\n",
    "             ax=ax)\n",
    "\n",
    "sns.histplot(data=(bld_sweeps_df.drop_duplicates('exp_id')\n",
    "                   .query(\"constraint=='eo'\")\n",
    "                   .query(\"loss_type=='ldam'\").reset_index()\n",
    "                  ),\n",
    "             x='max_m',\n",
    "             stat='density',\n",
    "             color='C1',\n",
    "             bins=25,\n",
    "             log_scale=(True, False),\n",
    "             element='step',cumulative=True,\n",
    "             alpha=0.2,\n",
    "             ax=ax)\n",
    "for rid, row in eo_C_df.iterrows():\n",
    "\n",
    "    ax.axvline(x=row['max_m'], ymin=0., ymax = 1.5, linewidth=1.5, color=f\"C{0 if row['loss_type']=='fdam' else 1}\")\n",
    "\n",
    "\n",
    "ax.set_xlabel(r'$C$')\n",
    "ax.legend(title=r'\\textbf{Method}', loc='upper left', labels=['FIFA', 'LDAM'], fancybox=False, shadow=True)\n",
    "plt.title(r\"\\textbf{Histogram of $C$ in EO-Constrained Sweeps}\", fontsize=18)\n",
    "plt.tight_layout()\n",
    "plt.savefig('./figs/C_histogram.png', bbox_inches='tight')\n",
    "plt.savefig('./figs/C_histogram.pdf', bbox_inches='tight')\n",
    "# ax.set_ylabel(r'Combined Loss Generalization Gap')"
   ]
  },
  {
   "cell_type": "code",
   "execution_count": 707,
   "id": "intended-cholesterol",
   "metadata": {},
   "outputs": [
    {
     "data": {
      "text/html": [
       "<div>\n",
       "<style scoped>\n",
       "    .dataframe tbody tr th:only-of-type {\n",
       "        vertical-align: middle;\n",
       "    }\n",
       "\n",
       "    .dataframe tbody tr th {\n",
       "        vertical-align: top;\n",
       "    }\n",
       "\n",
       "    .dataframe thead th {\n",
       "        text-align: right;\n",
       "    }\n",
       "</style>\n",
       "<table border=\"1\" class=\"dataframe\">\n",
       "  <thead>\n",
       "    <tr style=\"text-align: right;\">\n",
       "      <th></th>\n",
       "      <th>loss_type</th>\n",
       "      <th>train_balanced_loss</th>\n",
       "      <th>test_balanced_loss</th>\n",
       "      <th>bal_loss_gap</th>\n",
       "      <th>train_violation</th>\n",
       "      <th>test_violation</th>\n",
       "      <th>violation_gap</th>\n",
       "    </tr>\n",
       "  </thead>\n",
       "  <tbody>\n",
       "    <tr>\n",
       "      <th>157</th>\n",
       "      <td>ldam</td>\n",
       "      <td>5.47%</td>\n",
       "      <td>7.38%</td>\n",
       "      <td>1.91%</td>\n",
       "      <td>2.57%</td>\n",
       "      <td>5.57%</td>\n",
       "      <td>3.00%</td>\n",
       "    </tr>\n",
       "  </tbody>\n",
       "</table>\n",
       "</div>"
      ],
      "text/plain": [
       "    loss_type  train_balanced_loss  test_balanced_loss  bal_loss_gap  \\\n",
       "157      ldam                5.47%               7.38%         1.91%   \n",
       "\n",
       "     train_violation  test_violation  violation_gap  \n",
       "157            2.57%           5.57%          3.00%  "
      ]
     },
     "execution_count": 707,
     "metadata": {},
     "output_type": "execute_result"
    }
   ],
   "source": [
    "(rep_df.query('violation_eps==0.05').query('loss_type==\"ldam\"')[['loss_type',\n",
    "                                                                  'train_balanced_loss',\n",
    "                                                                 'test_balanced_loss', \n",
    "                                                                 'bal_loss_gap',\n",
    "                                                                 'train_violation',\n",
    "                                                                 'test_violation',\n",
    "                                                                 'violation_gap']]\n",
    " .query('test_balanced_loss < 0.0798')\n",
    "#  .sort_values('test_balanced_loss')\n",
    ")"
   ]
  },
  {
   "cell_type": "markdown",
   "id": "armed-exemption",
   "metadata": {},
   "source": [
    "### Figure 6: CelebA Generalization"
   ]
  },
  {
   "cell_type": "code",
   "execution_count": 791,
   "id": "proper-carolina",
   "metadata": {},
   "outputs": [],
   "source": [
    "rep_df = (bld_rep_sweeps_df\n",
    "    .query(\"loss_type != 'ldam'\")\n",
    "    .rename({'test_balloss_cls_eo': 'test_balanced_loss',\n",
    "              'train_balloss_cls_eo': 'train_balanced_loss',\n",
    "              'test_eo': 'test_violation',\n",
    "              'train_eo': 'train_violation'\n",
    "             },axis=1)         \n",
    "    .assign(bal_acc_gap=lambda x :  x['train_cls_avg_acc'] - x['test_cls_avg_acc'] )\n",
    "    .assign(bal_loss_gap=lambda x :  x['test_balanced_loss'] - x['train_balanced_loss'] )\n",
    "    .assign(violation_gap=lambda x :  x['test_violation'] - x['train_violation'] )\n",
    "\n",
    ")"
   ]
  },
  {
   "cell_type": "code",
   "execution_count": 782,
   "id": "corporate-closing",
   "metadata": {},
   "outputs": [
    {
     "data": {
      "image/png": "[encoded data removed]",
      "text/plain": [
       "<Figure size 432x288 with 1 Axes>"
      ]
     },
     "metadata": {},
     "output_type": "display_data"
    },
    {
     "data": {
      "image/png": "[encoded data removed]",
      "text/plain": [
       "<Figure size 432x288 with 1 Axes>"
      ]
     },
     "metadata": {},
     "output_type": "display_data"
    },
    {
     "data": {
      "image/png": "[encoded data removed]",
      "text/plain": [
       "<Figure size 432x288 with 1 Axes>"
      ]
     },
     "metadata": {},
     "output_type": "display_data"
    }
   ],
   "source": [
    "for eps in [0.01, 0.05, 0.1]:\n",
    "    plt.figure()\n",
    "    ax = plt.gca()\n",
    "    for ls_idx, ls in enumerate(['standard', 'fdam']):\n",
    "        plt_dt = rep_df.query(rf\"violation_eps=={eps}\").query(rf\"loss_type=='{ls}'\").reset_index()\n",
    "        plt.scatter(plt_dt['train_balanced_loss'].values, plt_dt['train_violation'].values, \n",
    "                label=rf'{[\"Vanilla\", \"FIFA\"][ls_idx]} (Train)',\n",
    "                alpha=0.5,\n",
    "               color=f\"C{ls_idx}\",\n",
    "                   )\n",
    "        plt.scatter(plt_dt['test_balanced_loss'].values, plt_dt['test_violation'].values, \n",
    "                label=rf'{[\"Vanilla\", \"FIFA\"][ls_idx]} (Test)',\n",
    "                alpha=0.5,\n",
    "               color=f\"C{ls_idx}\", marker='+',\n",
    "                   )\n",
    "    ax.legend(ncol=1, fontsize=15, fancybox=False)\n",
    "    \n",
    "    ax.set_xlim(-0.005, 0.31)\n",
    "    ax.set_ylim(-0.05,0.61)\n",
    "\n",
    "    ax.set_xlabel(r\"Balanced Classification Error\")\n",
    "    ax.set_ylabel(r\"Fairness (EO) Violation\")\n",
    "\n",
    "    ax.set_title(r\"\\textbf{Pareto Frontier ($\\epsilon={\"+f\"{eps}\"+r\"}$)}\", fontsize=24)\n",
    "    plt.tight_layout()\n",
    "    plt.savefig('./figs/pareto_'+f'{eps}'+'.png', bbox_inches='tight')\n",
    "    plt.savefig('./figs/pareto_'+f'{eps}'+'.pdf', bbox_inches='tight')"
   ]
  },
  {
   "cell_type": "markdown",
   "id": "5cc26392-3593-4474-8373-700c8a123756",
   "metadata": {},
   "source": [
    "### Figure 5"
   ]
  },
  {
   "cell_type": "code",
   "execution_count": 792,
   "id": "taken-party",
   "metadata": {},
   "outputs": [],
   "source": [
    "def viz_gap(data, col, title, ylabel='Generalization Gap', filename=None):\n",
    "    ax = plt.gca()\n",
    "    sns.lineplot(data=rep_df.reset_index(),\n",
    "                 x='violation_eps', \n",
    "                 y=col,\n",
    "                 hue='loss_type',\n",
    "                 style='loss_type',\n",
    "                 ci=95,\n",
    "                 err_style=\"bars\",\n",
    "                 ax=ax\n",
    "                )\n",
    "    ax.set_xlabel(r'$\\epsilon$')\n",
    "    ax.set_ylabel(rf'{ylabel}')\n",
    "    ax.legend(title=r'\\textbf{Method}', loc='upper right', labels=['Vanilla', 'FIFA'], fancybox=False, shadow=False)\n",
    "    plt.title(r'\\textbf{'+title+'}', fontsize=18)\n",
    "    plt.tight_layout()\n",
    "    if filename is not None:\n",
    "        plt.savefig(filename+'.png', bbox_inches='tight')\n",
    "        plt.savefig(filename+'.pdf', bbox_inches='tight')\n",
    "\n",
    "    "
   ]
  },
  {
   "cell_type": "code",
   "execution_count": 793,
   "id": "satellite-realtor",
   "metadata": {
    "scrolled": true
   },
   "outputs": [
    {
     "data": {
      "image/png": "[encoded data removed]",
      "text/plain": [
       "<Figure size 432x288 with 1 Axes>"
      ]
     },
     "metadata": {},
     "output_type": "display_data"
    }
   ],
   "source": [
    "viz_gap(rep_df, 'test_balanced_loss', title='Test Combined Loss', ylabel='', filename='./figs/blond_test_comb_loss')"
   ]
  },
  {
   "cell_type": "code",
   "execution_count": 794,
   "id": "dental-trial",
   "metadata": {},
   "outputs": [
    {
     "data": {
      "image/png": "[encoded data removed]",
      "text/plain": [
       "<Figure size 432x288 with 1 Axes>"
      ]
     },
     "metadata": {},
     "output_type": "display_data"
    }
   ],
   "source": [
    "viz_gap(rep_df, 'test_violation', title='Test Fairness Violation', ylabel='', filename='./figs/blond_test_fair')"
   ]
  },
  {
   "cell_type": "code",
   "execution_count": 795,
   "id": "persistent-logging",
   "metadata": {},
   "outputs": [
    {
     "data": {
      "image/png": "[encoded data removed]",
      "text/plain": [
       "<Figure size 432x288 with 1 Axes>"
      ]
     },
     "metadata": {},
     "output_type": "display_data"
    }
   ],
   "source": [
    "viz_gap(rep_df, 'bal_acc_gap', 'Balanced Error Generalization Gap', ylabel='', filename='./figs/blond_bal_err_gap')"
   ]
  },
  {
   "cell_type": "code",
   "execution_count": 796,
   "id": "unusual-scope",
   "metadata": {},
   "outputs": [
    {
     "data": {
      "image/png": "[encoded data removed]",
      "text/plain": [
       "<Figure size 432x288 with 1 Axes>"
      ]
     },
     "metadata": {},
     "output_type": "display_data"
    }
   ],
   "source": [
    "viz_gap(rep_df, 'bal_loss_gap', 'Combined Loss Generalization Gap', ylabel='', filename='./figs/blond_comb_gap')"
   ]
  },
  {
   "cell_type": "code",
   "execution_count": 797,
   "id": "short-screen",
   "metadata": {},
   "outputs": [
    {
     "data": {
      "image/png": "[encoded data removed]",
      "text/plain": [
       "<Figure size 432x288 with 1 Axes>"
      ]
     },
     "metadata": {},
     "output_type": "display_data"
    }
   ],
   "source": [
    "viz_gap(rep_df, 'violation_gap', 'Fairness Violation Generalization Gap', ylabel='', filename='./figs/blond_fair_gap')"
   ]
  },
  {
   "cell_type": "markdown",
   "id": "coordinated-toyota",
   "metadata": {},
   "source": [
    "### Figure 1: Teaser"
   ]
  },
  {
   "cell_type": "code",
   "execution_count": 489,
   "id": "involved-mainland",
   "metadata": {},
   "outputs": [],
   "source": [
    "import matplotlib.patches\n",
    "\n",
    "teaser_df = pd.read_csv('./csv_data/celeba_gen.csv',)\n",
    "teaser_df = teaser_df[teaser_df._step == teaser_df.groupby('train.eps')._step.transform('max')].reset_index()"
   ]
  },
  {
   "cell_type": "code",
   "execution_count": 490,
   "id": "norwegian-level",
   "metadata": {},
   "outputs": [],
   "source": [
    "treaser_tr = teaser_df[['exp_id','train.eps', 'train.eo', 'train.err']].copy().rename({\n",
    "    'train.eps': 'eps',\n",
    "    'train.eo': 'EO Violation',\n",
    "    'train.err': 'Classification Error'\n",
    "},axis=1)\n",
    "treaser_tr['Data'] = 'Train'\n",
    "treaser_te = teaser_df[['exp_id','train.eps', 'test.eo', 'test.err']].copy().rename({\n",
    "    'train.eps': 'eps',\n",
    "    'test.eo': 'EO Violation',\n",
    "    'test.err': 'Classification Error'\n",
    "},axis=1)\n",
    "treaser_te['Data'] = 'Test'"
   ]
  },
  {
   "cell_type": "code",
   "execution_count": 845,
   "id": "quality-qatar",
   "metadata": {},
   "outputs": [
    {
     "data": {
      "image/png": "[encoded data removed]",
      "text/plain": [
       "<Figure size 432x288 with 2 Axes>"
      ]
     },
     "metadata": {},
     "output_type": "display_data"
    }
   ],
   "source": [
    "fig = plt.figure()\n",
    "ax = plt.gca()\n",
    "plt.scatter(treaser_tr['Classification Error'].values, treaser_tr['EO Violation'].values, \n",
    "            label=r'Train',alpha=0.5, marker='o',\n",
    "           color='C0')\n",
    "plt.scatter(treaser_te['Classification Error'].values, treaser_te['EO Violation'].values, \n",
    "            label=r'Test',alpha=0.5, marker='+',\n",
    "           color='C1')\n",
    "ax.legend(loc=1, #bbox_to_anchor=(0.5, -0.05),\n",
    "          fancybox=False, shadow=True, \n",
    "          ncol=1)\n",
    "ax.set_xlim(-0.02,0.5)\n",
    "\n",
    "\n",
    "ax.set_xlabel(r\"Classification Error\")\n",
    "ax.set_ylabel(r\"Fairness (EO) Violation\")\n",
    "rect = matplotlib.patches.Rectangle((0.03, 0.54), 0.03, 0.09, linewidth=1, edgecolor='k', facecolor='none')\n",
    "ax.add_patch(rect)\n",
    "\n",
    "plt.plot([0.03, 0.096], [0.54, 0.341], 'k-', lw=1)\n",
    "plt.plot([0.06, 0.48618], [0.54, 0.34], 'k-', lw=1)\n",
    "\n",
    "inset_axes = mpl_toolkits.axes_grid.inset_locator.inset_axes(ax, \n",
    "                    width=\"75%\", # width = 30% of parent_bbox\n",
    "                    height=1.5, # height : 1 inch\n",
    "                    loc=4)\n",
    "inset_axes.scatter(treaser_te['Classification Error'].values, treaser_te['EO Violation'].values, \n",
    "            label=r'Test',alpha=0.5, marker='+',\n",
    "           color='C1')\n",
    "inset_axes.set_ylim([0.558,0.61])\n",
    "inset_axes.set_yticks([0.56,0.58,0.60])\n",
    "inset_axes.set_xticks([0.046, 0.0465, 0.047])\n",
    "inset_axes.xaxis.tick_top()\n",
    "inset_axes.tick_params(axis=\"both\",labelsize=10)\n",
    "\n",
    "\n",
    "\n",
    "# plt.tight_layout()\n",
    "plt.savefig('./figs/teaser'+'.png', bbox_inches='tight')\n",
    "plt.savefig('./figs/teaser'+'.pdf', bbox_inches='tight')"
   ]
  },
  {
   "cell_type": "markdown",
   "id": "static-adventure",
   "metadata": {},
   "source": [
    "## Figure 7: Trajectory"
   ]
  },
  {
   "cell_type": "code",
   "execution_count": 1079,
   "id": "effective-acquisition",
   "metadata": {},
   "outputs": [],
   "source": [
    "def viz_traj(data, col, col_name, legend_loc=2, filename=None):\n",
    "    ax = plt.gca()\n",
    "    dt = (data.melt(id_vars=['exp_id','n_iters', 'loss_type'],\n",
    "                   value_vars=['train_'+col, 'test_'+col],\n",
    "        var_name='Split', value_name=col_name)\n",
    "          .rename({'loss_type':'Method'},axis=1)\n",
    "          .replace({'Split':{\n",
    "              'train_'+col:'Train',\n",
    "              'test_'+col: 'Test'\n",
    "          },  'Method': {\n",
    "              'standard':'Vanilla',\n",
    "              'fdam':'FIFA',\n",
    "          }\n",
    "                   })\n",
    "         )\n",
    "    sns.lineplot(data=dt.reset_index(),\n",
    "                 x='n_iters', \n",
    "                 y=col_name,\n",
    "                 hue='Method',\n",
    "                 style='Split',\n",
    "                 hue_order=['Vanilla','FIFA'],\n",
    "                 ci=95,\n",
    "                 err_style=\"bars\",\n",
    "                 ax=ax,\n",
    "                 lw=3,err_kws={'lw':1.5}\n",
    "                )\n",
    "    ax.set_xlabel(r'$t$')\n",
    "    ax.set_ylabel(col_name)\n",
    "    ax.set_xscale('log')\n",
    "#     ax.legend(title=r'\\textbf{Method}', loc='upper right', labels=['Vanilla', 'FIFA'], fancybox=False, shadow=False)\n",
    "    sns.move_legend(ax, legend_loc, ncol=2,fancybox=False, fontsize=14, title_fontsize=18)\n",
    "#     plt.title(r'\\textbf{'+title+'}', fontsize=18)\n",
    "    plt.tight_layout()\n",
    "    if filename is not None:\n",
    "        plt.savefig(filename+'.png', bbox_inches='tight')\n",
    "        plt.savefig(filename+'.pdf', bbox_inches='tight')\n",
    "\n",
    "    "
   ]
  },
  {
   "cell_type": "code",
   "execution_count": 1080,
   "id": "interested-bargain",
   "metadata": {},
   "outputs": [],
   "source": [
    "traj_sweeps_df = pd.read_csv(\"./csv_data/trajectory.csv\", )\n",
    "traj_sweeps_df['train_bal_err']=1. - traj_sweeps_df['train_cls_avg_acc']\n",
    "traj_sweeps_df['test_bal_err']=1. - traj_sweeps_df['test_cls_avg_acc']"
   ]
  },
  {
   "cell_type": "code",
   "execution_count": 1089,
   "id": "prime-ecology",
   "metadata": {},
   "outputs": [],
   "source": [
    "traj_sweeps_df.loc[traj_sweeps_df._step==0, '_step']=1"
   ]
  },
  {
   "cell_type": "code",
   "execution_count": 1091,
   "id": "french-reduction",
   "metadata": {},
   "outputs": [
    {
     "data": {
      "image/png": "[encoded data removed]",
      "text/plain": [
       "<Figure size 432x288 with 1 Axes>"
      ]
     },
     "metadata": {},
     "output_type": "display_data"
    }
   ],
   "source": [
    "viz_traj(traj_sweeps_df, 'acc', 'Total Accuracy', legend_loc=4, filename='./figs/traj_total_acc')"
   ]
  },
  {
   "cell_type": "code",
   "execution_count": 1092,
   "id": "behind-writing",
   "metadata": {},
   "outputs": [
    {
     "data": {
      "image/png": "[encoded data removed]",
      "text/plain": [
       "<Figure size 432x288 with 1 Axes>"
      ]
     },
     "metadata": {},
     "output_type": "display_data"
    }
   ],
   "source": [
    "viz_traj(traj_sweeps_df, 'bal_err', 'Balanced Classification Error', legend_loc=1, filename='./figs/traj_bal_err')"
   ]
  },
  {
   "cell_type": "code",
   "execution_count": 1093,
   "id": "based-binary",
   "metadata": {},
   "outputs": [
    {
     "data": {
      "image/png": "[encoded data removed]",
      "text/plain": [
       "<Figure size 432x288 with 1 Axes>"
      ]
     },
     "metadata": {},
     "output_type": "display_data"
    }
   ],
   "source": [
    "viz_traj(traj_sweeps_df, 'eo', 'Fairness (EO) Violation', legend_loc=2, filename='./figs/traj_eo')"
   ]
  },
  {
   "cell_type": "code",
   "execution_count": 1094,
   "id": "proprietary-bidding",
   "metadata": {},
   "outputs": [
    {
     "data": {
      "image/png": "[encoded data removed]",
      "text/plain": [
       "<Figure size 432x288 with 1 Axes>"
      ]
     },
     "metadata": {},
     "output_type": "display_data"
    }
   ],
   "source": [
    "viz_traj(traj_sweeps_df, 'balloss_cls_eo', 'Combined Loss', legend_loc=2, filename='./figs/traj_comb')"
   ]
  },
  {
   "cell_type": "code",
   "execution_count": null,
   "id": "favorite-increase",
   "metadata": {},
   "outputs": [],
   "source": []
  },
  {
   "cell_type": "code",
   "execution_count": null,
   "id": "rubber-civilian",
   "metadata": {},
   "outputs": [],
   "source": []
  }
 ],
 "metadata": {
  "kernelspec": {
   "display_name": "Python 3",
   "language": "python",
   "name": "python3"
  },
  "language_info": {
   "codemirror_mode": {
    "name": "ipython",
    "version": 3
   },
   "file_extension": ".py",
   "mimetype": "text/x-python",
   "name": "python",
   "nbconvert_exporter": "python",
   "pygments_lexer": "ipython3",
   "version": "3.8.8"
  }
 },
 "nbformat": 4,
 "nbformat_minor": 5
}
